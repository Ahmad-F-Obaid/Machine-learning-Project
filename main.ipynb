{
 "cells": [
  {
   "cell_type": "code",
   "execution_count": 1,
   "metadata": {},
   "outputs": [],
   "source": [
    "import pandas as pd\n",
    "import numpy as np\n",
    "import matplotlib.pyplot as plt\n",
    "import seaborn as sns\n",
    "from sklearn.model_selection import train_test_split\n",
    "from sklearn.preprocessing import LabelEncoder, StandardScaler\n",
    "from sklearn.metrics import (\n",
    "    classification_report, confusion_matrix, precision_score, recall_score, f1_score, accuracy_score\n",
    ")\n",
    "from imblearn.over_sampling import SMOTE\n",
    "from lightgbm import LGBMClassifier\n",
    "from sklearn.ensemble import RandomForestClassifier\n",
    "from sklearn.svm import SVC\n",
    "from sklearn.linear_model import LogisticRegression"
   ]
  },
  {
   "cell_type": "markdown",
   "metadata": {},
   "source": [
    "# DataSet"
   ]
  },
  {
   "cell_type": "code",
   "execution_count": 2,
   "metadata": {},
   "outputs": [],
   "source": [
    "# Load the dataset\n",
    "data = pd.read_csv('Data/Fraud.csv')"
   ]
  },
  {
   "cell_type": "code",
   "execution_count": null,
   "metadata": {},
   "outputs": [],
   "source": [
    "# checking the data types\n",
    "data.dtypes"
   ]
  },
  {
   "cell_type": "code",
   "execution_count": null,
   "metadata": {},
   "outputs": [],
   "source": [
    "# checking the head of the data\n",
    "data.head()"
   ]
  },
  {
   "cell_type": "code",
   "execution_count": null,
   "metadata": {},
   "outputs": [],
   "source": [
    "# checking the info of the data\n",
    "data.info()"
   ]
  },
  {
   "cell_type": "code",
   "execution_count": null,
   "metadata": {},
   "outputs": [],
   "source": [
    "print(\"Shape of the dataset:\", data.shape)"
   ]
  },
  {
   "cell_type": "code",
   "execution_count": null,
   "metadata": {},
   "outputs": [],
   "source": [
    "data.isnull().sum()"
   ]
  },
  {
   "cell_type": "code",
   "execution_count": null,
   "metadata": {},
   "outputs": [],
   "source": [
    "data.describe().transpose()"
   ]
  },
  {
   "cell_type": "code",
   "execution_count": null,
   "metadata": {},
   "outputs": [],
   "source": [
    "# Enhanced Fraud vs Non-Fraud Transactions plot\n",
    "plt.figure(figsize=(10, 6))  # Larger figure size for better readability\n",
    "sns.countplot(\n",
    "    x='isFraud', \n",
    "    data=data, \n",
    "    palette=['#00C853', '#D50000'],  # Custom colors: green for non-fraud, red for fraud\n",
    "    alpha=0.85  # Slight transparency for better visuals\n",
    ")\n",
    "plt.title('Fraud vs Non-Fraud Transactions', fontsize=16, fontweight='bold')\n",
    "plt.xlabel('Fraudulent Transaction', fontsize=14)\n",
    "plt.ylabel('Transaction Count', fontsize=14)\n",
    "plt.xticks(ticks=[0, 1], labels=['Not Fraud (0)', 'Fraud (1)'], fontsize=12)\n",
    "plt.yticks(fontsize=12)\n",
    "\n",
    "# Adding percentage labels to bars\n",
    "total = len(data)  # Total number of transactions\n",
    "for bar in plt.gca().patches:\n",
    "    count = bar.get_height()\n",
    "    percentage = f'{(count / total) * 100:.2f}%'\n",
    "    plt.gca().text(\n",
    "        bar.get_x() + bar.get_width() / 2,  # X-coordinate\n",
    "        bar.get_height() + (total * 0.001),  # Y-coordinate\n",
    "        percentage,  # Percentage text\n",
    "        ha='center', fontsize=12, color='black', fontweight='bold'\n",
    "    )\n",
    "\n",
    "plt.tight_layout()  # Adjust layout for better appearance\n",
    "plt.show()\n"
   ]
  },
  {
   "cell_type": "code",
   "execution_count": 10,
   "metadata": {},
   "outputs": [],
   "source": [
    "# Reshape the dataset to 100,000 rows using stratified sampling\n",
    "reshaped_data, _ = train_test_split(data, train_size=100000, stratify=data['isFraud'], random_state=42)"
   ]
  },
  {
   "cell_type": "code",
   "execution_count": null,
   "metadata": {},
   "outputs": [],
   "source": [
    "# Confirm the shape of the reshaped data\n",
    "print(f\"Reshaped data has {reshaped_data.shape[0]} rows and {reshaped_data.shape[1]} columns.\")"
   ]
  },
  {
   "cell_type": "code",
   "execution_count": 12,
   "metadata": {},
   "outputs": [],
   "source": [
    "# Save reshaped data to a new CSV file\n",
    "reshaped_data.to_csv('reshaped_fraud_data.csv', index=False)"
   ]
  },
  {
   "cell_type": "code",
   "execution_count": null,
   "metadata": {},
   "outputs": [],
   "source": [
    "# Initial exploration\n",
    "print(\"Dataset Info:\")\n",
    "print(reshaped_data.info())\n",
    "print(\"\\nMissing Values:\")\n",
    "print(reshaped_data.isnull().sum())"
   ]
  },
  {
   "cell_type": "code",
   "execution_count": null,
   "metadata": {},
   "outputs": [],
   "source": [
    "# Visualizations\n",
    "# Transaction type distribution\n",
    "plt.figure(figsize=(8, 6))\n",
    "sns.countplot(x='type', data=reshaped_data, palette='viridis', order=reshaped_data['type'].value_counts().index)\n",
    "plt.title('Transaction Type Distribution')\n",
    "plt.xlabel('Transaction Type')\n",
    "plt.ylabel('Count')\n",
    "plt.show()"
   ]
  },
  {
   "cell_type": "code",
   "execution_count": null,
   "metadata": {},
   "outputs": [],
   "source": [
    "# Distribution of transaction amounts\n",
    "plt.figure(figsize=(10, 6))\n",
    "sns.histplot(reshaped_data['amount'], bins=50, kde=True, color='green')\n",
    "plt.title('Transaction Amount Distribution')\n",
    "plt.xlabel('Transaction Amount')\n",
    "plt.ylabel('Density')\n",
    "plt.xlim(0, reshaped_data['amount'].quantile(0.95))  # Limiting to the 95th percentile for clarity\n",
    "plt.show()"
   ]
  },
  {
   "cell_type": "code",
   "execution_count": null,
   "metadata": {},
   "outputs": [],
   "source": [
    "# Enhanced Fraud vs Non-Fraud Transactions plot\n",
    "plt.figure(figsize=(10, 6))  # Larger figure size for better readability\n",
    "sns.countplot(\n",
    "    x='isFraud', \n",
    "    data=reshaped_data, \n",
    "    palette=['#00C853', '#D50000'],  # Custom colors: green for non-fraud, red for fraud\n",
    "    alpha=0.85  # Slight transparency for better visuals\n",
    ")\n",
    "plt.title('Fraud vs Non-Fraud Transactions', fontsize=16, fontweight='bold')\n",
    "plt.xlabel('Fraudulent Transaction', fontsize=14)\n",
    "plt.ylabel('Transaction Count', fontsize=14)\n",
    "plt.xticks(ticks=[0, 1], labels=['Not Fraud (0)', 'Fraud (1)'], fontsize=12)\n",
    "plt.yticks(fontsize=12)\n",
    "\n",
    "# Adding percentage labels to bars\n",
    "total = len(reshaped_data)  # Total number of transactions\n",
    "for bar in plt.gca().patches:\n",
    "    count = bar.get_height()\n",
    "    percentage = f'{(count / total) * 100:.2f}%'\n",
    "    plt.gca().text(\n",
    "        bar.get_x() + bar.get_width() / 2,  # X-coordinate\n",
    "        bar.get_height() + (total * 0.001),  # Y-coordinate\n",
    "        percentage,  # Percentage text\n",
    "        ha='center', fontsize=12, color='black', fontweight='bold'\n",
    "    )\n",
    "\n",
    "plt.tight_layout()  # Adjust layout for better appearance\n",
    "plt.show()\n"
   ]
  },
  {
   "cell_type": "markdown",
   "metadata": {},
   "source": [
    "<h3>Data Cleaning & Preprocessing<h3>"
   ]
  },
  {
   "cell_type": "code",
   "execution_count": 17,
   "metadata": {},
   "outputs": [],
   "source": [
    "# Encode categorical 'type' column\n",
    "reshaped_data['type'] = LabelEncoder().fit_transform(reshaped_data['type'])"
   ]
  },
  {
   "cell_type": "code",
   "execution_count": 18,
   "metadata": {},
   "outputs": [],
   "source": [
    "# Feature and target selection\n",
    "X = reshaped_data.drop(['isFraud', 'isFlaggedFraud', 'nameOrig', 'nameDest'], axis=1)\n",
    "y = reshaped_data['isFraud']"
   ]
  },
  {
   "cell_type": "code",
   "execution_count": 19,
   "metadata": {},
   "outputs": [],
   "source": [
    "# Downcast numerical types for memory efficiency\n",
    "X = X.apply(pd.to_numeric, downcast='float')"
   ]
  },
  {
   "cell_type": "code",
   "execution_count": 20,
   "metadata": {},
   "outputs": [],
   "source": [
    "# Normalize numerical features\n",
    "scaler = StandardScaler()\n",
    "numerical_cols = ['amount', 'oldbalanceOrg', 'newbalanceOrig', 'oldbalanceDest', 'newbalanceDest']\n",
    "X[numerical_cols] = scaler.fit_transform(X[numerical_cols])"
   ]
  },
  {
   "cell_type": "code",
   "execution_count": 21,
   "metadata": {},
   "outputs": [],
   "source": [
    "# Split data into training and testing sets\n",
    "X_train, X_test, y_train, y_test = train_test_split(X, y, test_size=0.3, random_state=42)"
   ]
  },
  {
   "cell_type": "code",
   "execution_count": 22,
   "metadata": {},
   "outputs": [],
   "source": [
    "# Handle class imbalance using SMOTE\n",
    "smote = SMOTE(random_state=42)\n",
    "X_train_resampled, y_train_resampled = smote.fit_resample(X_train, y_train)"
   ]
  },
  {
   "cell_type": "code",
   "execution_count": null,
   "metadata": {},
   "outputs": [],
   "source": [
    "print(f\"Before Resampling: {y_train.value_counts().to_dict()}\")\n",
    "print(f\"After Resampling: {pd.Series(y_train_resampled).value_counts().to_dict()}\")"
   ]
  },
  {
   "cell_type": "markdown",
   "metadata": {},
   "source": [
    "# Building the Model"
   ]
  },
  {
   "cell_type": "code",
   "execution_count": null,
   "metadata": {},
   "outputs": [],
   "source": [
    "# Model Selection\n",
    "print(\"Welcome to the Fraud Detection System!\")\n",
    "print(\"Please select a model for training:\")\n",
    "print(\"Press 'L' for LightGBM\")\n",
    "print(\"Press 'S' for Support Vector Machine (SVM)\")\n",
    "print(\"Press 'R' for Random Forest\")\n",
    "print(\"Press 'G' for Logistic Regression\")\n",
    "\n",
    "user_choice = input(\"Enter your choice: \").strip().upper()\n",
    "\n",
    "# Initialize selected model\n",
    "if user_choice == \"L\":\n",
    "    model_name = \"LightGBM\"\n",
    "    model = LGBMClassifier(device='gpu', random_state=42)  # GPU acceleration enabled\n",
    "elif user_choice == \"S\":\n",
    "    model_name = \"SVM\"\n",
    "    model = SVC(kernel='linear', probability=True, random_state=42)\n",
    "elif user_choice == \"R\":\n",
    "    model_name = \"Random Forest\"\n",
    "    model = RandomForestClassifier(n_jobs=-1, random_state=42)  # Parallel processing\n",
    "elif user_choice == \"G\":\n",
    "    model_name = \"Logistic Regression\"\n",
    "    model = LogisticRegression(max_iter=1000, random_state=42)\n",
    "else:\n",
    "    print(\"Invalid choice! Defaulting to LightGBM.\")\n",
    "    model_name = \"LightGBM\"\n",
    "    model = LGBMClassifier(device='gpu', random_state=42)"
   ]
  },
  {
   "cell_type": "markdown",
   "metadata": {},
   "source": [
    "<h3>Training Part<h3>"
   ]
  },
  {
   "cell_type": "code",
   "execution_count": null,
   "metadata": {},
   "outputs": [],
   "source": [
    "# Train the selected model\n",
    "print(f\"\\nTraining {model_name} model...\")\n",
    "model.fit(X_train, y_train)"
   ]
  },
  {
   "cell_type": "code",
   "execution_count": null,
   "metadata": {},
   "outputs": [],
   "source": [
    "# Make predictions\n",
    "y_pred = model.predict(X_test)\n",
    "print(\"\\nEvaluation Metrics:\")\n",
    "print(classification_report(y_test, y_pred, target_names=['Not Fraud', 'Fraud']))"
   ]
  },
  {
   "cell_type": "code",
   "execution_count": null,
   "metadata": {},
   "outputs": [],
   "source": [
    "\n",
    "# Plot confusion matrix\n",
    "conf_matrix = confusion_matrix(y_test, y_pred)\n",
    "plt.figure(figsize=(8, 6))\n",
    "sns.heatmap(conf_matrix, annot=True, fmt='d', cmap='Blues', xticklabels=['Not Fraud', 'Fraud'], yticklabels=['Not Fraud', 'Fraud'])\n",
    "plt.title('Confusion Matrix')\n",
    "plt.xlabel('Predicted')\n",
    "plt.ylabel('Actual')\n",
    "plt.show()"
   ]
  },
  {
   "cell_type": "code",
   "execution_count": null,
   "metadata": {},
   "outputs": [],
   "source": [
    "# Evaluate the model\n",
    "precision = precision_score(y_test, y_pred)\n",
    "recall = recall_score(y_test, y_pred)\n",
    "f1 = f1_score(y_test, y_pred)\n",
    "accuracy = accuracy_score(y_test, y_pred)"
   ]
  },
  {
   "cell_type": "code",
   "execution_count": null,
   "metadata": {},
   "outputs": [],
   "source": [
    "# Display results\n",
    "print(f\"\\nResults for {model_name}:\")\n",
    "print(f\"Precision: {precision:.4f}\")\n",
    "print(f\"Recall: {recall:.4f}\")\n",
    "print(f\"F1 Score: {f1:.4f}\")\n",
    "print(f\"Accuracy: {accuracy:.4f}\")\n",
    "print(\"-\" * 50)"
   ]
  },
  {
   "cell_type": "markdown",
   "metadata": {},
   "source": [
    "<br>Now you can enter transaction details to check for fraud.\n",
    "Follow these instructions for each input:\n",
    "1. Transaction Type (type): 0 = CASH_IN, 1 = CASH_OUT, 2 = DEBIT, 3 = PAYMENT, 4 = TRANSFER\n",
    "2. Transaction Amount (amount): Positive float, e.g., 1000.50\n",
    "3. Original Account Balance (oldbalanceOrg): Positive float, e.g., 50000.00\n",
    "4. New Account Balance (newbalanceOrig): Positive float, e.g., 45000.00\n",
    "5. Recipient's Original Balance (oldbalanceDest): Positive float, e.g., 200000.00\n",
    "6. Recipient's New Balance (newbalanceDest): Positive float, e.g., 250000.50\n",
    "<br>"
   ]
  },
  {
   "cell_type": "code",
   "execution_count": 31,
   "metadata": {},
   "outputs": [],
   "source": [
    "transaction_type = int(input(\"Enter transaction type (0-4): \"))\n",
    "amount = float(input(\"Enter transaction amount: \"))\n",
    "oldbalanceOrg = float(input(\"Enter original account balance: \"))\n",
    "newbalanceOrig = float(input(\"Enter new account balance after transaction: \"))\n",
    "oldbalanceDest = float(input(\"Enter recipient's original account balance: \"))\n",
    "newbalanceDest = float(input(\"Enter recipient's new account balance: \"))"
   ]
  },
  {
   "cell_type": "code",
   "execution_count": 32,
   "metadata": {},
   "outputs": [],
   "source": [
    "# Prepare input data for prediction\n",
    "input_data = pd.DataFrame({\n",
    "    'type': [transaction_type],\n",
    "    'amount': [amount],\n",
    "    'oldbalanceOrg': [oldbalanceOrg],\n",
    "    'newbalanceOrig': [newbalanceOrig],\n",
    "    'oldbalanceDest': [oldbalanceDest],\n",
    "    'newbalanceDest': [newbalanceDest]\n",
    "})"
   ]
  },
  {
   "cell_type": "code",
   "execution_count": 33,
   "metadata": {},
   "outputs": [],
   "source": [
    "# Normalize input data\n",
    "input_data[numerical_cols] = scaler.transform(input_data[numerical_cols])"
   ]
  },
  {
   "cell_type": "code",
   "execution_count": null,
   "metadata": {},
   "outputs": [],
   "source": [
    "# Add the 'step' column to the input data\n",
    "input_data['step'] = 0  # Assuming step is 0 for the new transaction\n",
    "\n",
    "# Reorder columns to match the training data\n",
    "input_data = input_data[X.columns]\n",
    "\n",
    "# Predict fraud\n",
    "fraud_prediction = model.predict(input_data)[0]\n"
   ]
  },
  {
   "cell_type": "markdown",
   "metadata": {},
   "source": [
    "<h3>Final Prediction<h3>"
   ]
  },
  {
   "cell_type": "code",
   "execution_count": null,
   "metadata": {},
   "outputs": [],
   "source": [
    "if fraud_prediction == 1:\n",
    "    print(\"\\n⚠️ Prediction: This transaction is FRAUDULENT!\")\n",
    "else:\n",
    "    print(\"\\n✅ Prediction: This transaction is NOT FRAUDULENT.\")"
   ]
  }
 ],
 "metadata": {
  "kernelspec": {
   "display_name": "base",
   "language": "python",
   "name": "python3"
  },
  "language_info": {
   "codemirror_mode": {
    "name": "ipython",
    "version": 3
   },
   "file_extension": ".py",
   "mimetype": "text/x-python",
   "name": "python",
   "nbconvert_exporter": "python",
   "pygments_lexer": "ipython3",
   "version": "3.12.4"
  }
 },
 "nbformat": 4,
 "nbformat_minor": 2
}
